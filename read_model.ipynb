{
 "cells": [
  {
   "cell_type": "code",
   "execution_count": 7,
   "metadata": {},
   "outputs": [],
   "source": [
    "# Import necessary packages\n",
    "import matplotlib.pyplot as plt\n",
    "import pandas as pd\n",
    "import torch\n",
    "import torchinfo\n",
    "from torch.utils.data import Dataset, DataLoader\n",
    "from sklearn.preprocessing import LabelEncoder\n",
    "from tqdm.auto import tqdm\n",
    "\n",
    "from matplotlib import pyplot as plt\n",
    "import random\n",
    "\n",
    "import os\n",
    "from pathlib import Path\n",
    "from typing import List"
   ]
  },
  {
   "cell_type": "code",
   "execution_count": 8,
   "metadata": {},
   "outputs": [],
   "source": [
    "# Create a simple CNN model based on https://github.com/Sentdex/BCI/blob/master/training.py\n",
    "class ProfessorXModel(torch.nn.Module):\n",
    "    def __init__(self):\n",
    "        super().__init__()\n",
    "        self.conv_block_1 = torch.nn.Sequential(\n",
    "            torch.nn.Conv1d(in_channels=1, out_channels=16, kernel_size=3),\n",
    "            torch.nn.ReLU(),\n",
    "            torch.nn.Conv1d(in_channels=16, out_channels=16, kernel_size=2),\n",
    "            torch.nn.ReLU(),\n",
    "        )\n",
    "        self.conv_block_2 = torch.nn.Sequential(\n",
    "            torch.nn.Conv1d(in_channels=16, out_channels=16, kernel_size=2),\n",
    "            torch.nn.ReLU(),\n",
    "            torch.nn.MaxPool1d(kernel_size=2),\n",
    "        )\n",
    "        self.conv_block_3 = torch.nn.Sequential(\n",
    "            torch.nn.Conv1d(in_channels=16, out_channels=16, kernel_size=2),\n",
    "            torch.nn.ReLU(),\n",
    "            torch.nn.MaxPool1d(kernel_size=2),\n",
    "        )\n",
    "        self.classifier = torch.nn.Sequential(\n",
    "            torch.nn.Flatten(),\n",
    "            torch.nn.Linear(in_features=16*11, out_features=128),\n",
    "            torch.nn.Linear(in_features=128, out_features=1),\n",
    "            torch.nn.Sigmoid()\n",
    "        )\n",
    "\n",
    "    def forward(self, x):\n",
    "        snr = 1.\n",
    "        std = torch.std(x)\n",
    "        x += (2. * torch.rand(x.shape) - 1.) * 2. * std * snr\n",
    "\n",
    "        result = self.classifier(self.conv_block_3(self.conv_block_2(self.conv_block_1(x))))\n",
    "        return torch.squeeze(result)\n"
   ]
  },
  {
   "cell_type": "code",
   "execution_count": 9,
   "metadata": {},
   "outputs": [],
   "source": [
    "PATH = 'Model/model_overall.pt'\n",
    "\n",
    "model = torch.load(PATH)\n",
    "#print(loaded_model['epoch'])\n",
    "#print(loaded_model['model_state_dict'])\n",
    "#print(loaded_model['optimizer_state_dict'])"
   ]
  },
  {
   "cell_type": "code",
   "execution_count": 10,
   "metadata": {},
   "outputs": [],
   "source": [
    "#model = ProfessorXModel()\n",
    "#model.load_state_dict(loaded_model['model_state_dict'])\n",
    "#model.eval()"
   ]
  },
  {
   "cell_type": "code",
   "execution_count": 11,
   "metadata": {},
   "outputs": [
    {
     "name": "stdout",
     "output_type": "stream",
     "text": [
      "119\n"
     ]
    }
   ],
   "source": [
    "df = pd.read_csv('DATASET/CLEAN/TEST_DATASET.csv')\n",
    "print(len(df))"
   ]
  },
  {
   "cell_type": "code",
   "execution_count": 12,
   "metadata": {},
   "outputs": [
    {
     "name": "stdout",
     "output_type": "stream",
     "text": [
      "INPUT: LEFT\n",
      "OUTPUT: LEFT\n",
      "tensor(0.1016)\n"
     ]
    }
   ],
   "source": [
    "id = 11\n",
    "test = df.iloc[id, 1:].astype(float)\n",
    "\n",
    "test = torch.from_numpy(test.values).unsqueeze(0).unsqueeze(0).to(torch.float32)\n",
    "\n",
    "with torch.inference_mode():\n",
    "    result = model(test)\n",
    "\n",
    "if result.item() >= 0.7:\n",
    "    command = 'RIGHT'\n",
    "elif result.item() <= 0.3:\n",
    "    command = 'LEFT'\n",
    "else:\n",
    "    command = 'UNDECIDED'\n",
    "\n",
    "print(\"INPUT:\", df.iloc[id, 0])\n",
    "print(\"OUTPUT:\",command)\n",
    "print(result)"
   ]
  }
 ],
 "metadata": {
  "kernelspec": {
   "display_name": "PyTorch",
   "language": "python",
   "name": "python3"
  },
  "language_info": {
   "codemirror_mode": {
    "name": "ipython",
    "version": 3
   },
   "file_extension": ".py",
   "mimetype": "text/x-python",
   "name": "python",
   "nbconvert_exporter": "python",
   "pygments_lexer": "ipython3",
   "version": "3.10.9"
  },
  "orig_nbformat": 4
 },
 "nbformat": 4,
 "nbformat_minor": 2
}
